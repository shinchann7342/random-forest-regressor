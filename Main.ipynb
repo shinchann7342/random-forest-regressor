{
 "cells": [
  {
   "cell_type": "markdown",
   "metadata": {
    "id": "9aNjr95HB6PO"
   },
   "source": [
    "I will be using Random Forest Regressor for this project where in i Will be forecasting the audience ratings based on certain key features which i will be choosing depending on the correlation with the audience_rating."
   ]
  },
  {
   "cell_type": "code",
   "execution_count": 5,
   "metadata": {
    "id": "D-mLX0Y4ap5I"
   },
   "outputs": [],
   "source": [
    "#imports\n",
    "import pandas as pd\n",
    "import numpy as np\n",
    "import seaborn as sns\n",
    "import matplotlib.pyplot as plt\n",
    "\n",
    "\n",
    "from sklearn.preprocessing import LabelEncoder\n",
    "from sklearn.model_selection import train_test_split\n",
    "from sklearn.ensemble import RandomForestRegressor\n",
    "from sklearn.model_selection import RandomizedSearchCV\n",
    "from sklearn.metrics import mean_squared_error, r2_score,mean_absolute_error,mean_absolute_percentage_error\n",
    "from math import sqrt\n"
   ]
  },
  {
   "cell_type": "markdown",
   "metadata": {},
   "source": [
    "I have used a csv file instead of the provided excel as there were some issue reading the excel file in my local machine(Jupyter Notebook), although there were no issues running it in Google Colab"
   ]
  },
  {
   "cell_type": "code",
   "execution_count": 45,
   "metadata": {
    "id": "6I1XEukSyRgx"
   },
   "outputs": [],
   "source": [
    "df=pd.read_csv(\"Rotten_Tomatoes_Movies.csv\",encoding='unicode_escape') #comment out this line and uncomment the below line if you're running it in Colab\n",
    "\n",
    "#df=pd.read_excel(\"Rotten_Tomatoes_Movies3.xls\") #Uncomment this line if you're running it in Google Colab"
   ]
  },
  {
   "cell_type": "code",
   "execution_count": 46,
   "metadata": {
    "colab": {
     "base_uri": "https://localhost:8080/",
     "height": 712
    },
    "id": "_1BSljs3ya7E",
    "outputId": "632e52c6-60d4-4d0c-ac7c-c78e5cdb6984"
   },
   "outputs": [
    {
     "data": {
      "text/html": [
       "<div>\n",
       "<style scoped>\n",
       "    .dataframe tbody tr th:only-of-type {\n",
       "        vertical-align: middle;\n",
       "    }\n",
       "\n",
       "    .dataframe tbody tr th {\n",
       "        vertical-align: top;\n",
       "    }\n",
       "\n",
       "    .dataframe thead th {\n",
       "        text-align: right;\n",
       "    }\n",
       "</style>\n",
       "<table border=\"1\" class=\"dataframe\">\n",
       "  <thead>\n",
       "    <tr style=\"text-align: right;\">\n",
       "      <th></th>\n",
       "      <th>movie_title</th>\n",
       "      <th>movie_info</th>\n",
       "      <th>critics_consensus</th>\n",
       "      <th>rating</th>\n",
       "      <th>genre</th>\n",
       "      <th>directors</th>\n",
       "      <th>writers</th>\n",
       "      <th>cast</th>\n",
       "      <th>in_theaters_date</th>\n",
       "      <th>on_streaming_date</th>\n",
       "      <th>runtime_in_minutes</th>\n",
       "      <th>studio_name</th>\n",
       "      <th>tomatometer_status</th>\n",
       "      <th>tomatometer_rating</th>\n",
       "      <th>tomatometer_count</th>\n",
       "      <th>audience_rating</th>\n",
       "    </tr>\n",
       "  </thead>\n",
       "  <tbody>\n",
       "    <tr>\n",
       "      <th>0</th>\n",
       "      <td>Percy Jackson &amp; the Olympians: The Lightning T...</td>\n",
       "      <td>A teenager discovers he's the descendant of a ...</td>\n",
       "      <td>Though it may seem like just another Harry Pot...</td>\n",
       "      <td>PG</td>\n",
       "      <td>Action &amp; Adventure, Comedy, Drama, Science Fic...</td>\n",
       "      <td>Chris Columbus</td>\n",
       "      <td>Craig Titley</td>\n",
       "      <td>Logan Lerman, Brandon T. Jackson, Alexandra Da...</td>\n",
       "      <td>12/2/2010</td>\n",
       "      <td>29-06-2010</td>\n",
       "      <td>83.0</td>\n",
       "      <td>20th Century Fox</td>\n",
       "      <td>Rotten</td>\n",
       "      <td>49</td>\n",
       "      <td>144</td>\n",
       "      <td>53.0</td>\n",
       "    </tr>\n",
       "    <tr>\n",
       "      <th>1</th>\n",
       "      <td>Please Give</td>\n",
       "      <td>Kate has a lot on her mind. There's the ethics...</td>\n",
       "      <td>Nicole Holofcener's newest might seem slight i...</td>\n",
       "      <td>R</td>\n",
       "      <td>Comedy</td>\n",
       "      <td>Nicole Holofcener</td>\n",
       "      <td>Nicole Holofcener</td>\n",
       "      <td>Catherine Keener, Amanda Peet, Oliver Platt, R...</td>\n",
       "      <td>30-04-2010</td>\n",
       "      <td>19-10-2010</td>\n",
       "      <td>90.0</td>\n",
       "      <td>Sony Pictures Classics</td>\n",
       "      <td>Certified Fresh</td>\n",
       "      <td>86</td>\n",
       "      <td>140</td>\n",
       "      <td>64.0</td>\n",
       "    </tr>\n",
       "    <tr>\n",
       "      <th>2</th>\n",
       "      <td>10</td>\n",
       "      <td>Blake Edwards' 10 stars Dudley Moore as George...</td>\n",
       "      <td>NaN</td>\n",
       "      <td>R</td>\n",
       "      <td>Comedy, Romance</td>\n",
       "      <td>Blake Edwards</td>\n",
       "      <td>Blake Edwards</td>\n",
       "      <td>Dudley Moore, Bo Derek, Julie Andrews, Robert ...</td>\n",
       "      <td>5/10/1979</td>\n",
       "      <td>27-08-1997</td>\n",
       "      <td>118.0</td>\n",
       "      <td>Waner Bros.</td>\n",
       "      <td>Fresh</td>\n",
       "      <td>68</td>\n",
       "      <td>22</td>\n",
       "      <td>53.0</td>\n",
       "    </tr>\n",
       "    <tr>\n",
       "      <th>3</th>\n",
       "      <td>12 Angry Men (Twelve Angry Men)</td>\n",
       "      <td>A Puerto Rican youth is on trial for murder, a...</td>\n",
       "      <td>Sidney Lumet's feature debut is a superbly wri...</td>\n",
       "      <td>NR</td>\n",
       "      <td>Classics, Drama</td>\n",
       "      <td>Sidney Lumet</td>\n",
       "      <td>Reginald Rose</td>\n",
       "      <td>Martin Balsam, John Fiedler, Lee J. Cobb, E.G....</td>\n",
       "      <td>13-04-1957</td>\n",
       "      <td>6/3/2001</td>\n",
       "      <td>95.0</td>\n",
       "      <td>Criterion Collection</td>\n",
       "      <td>Certified Fresh</td>\n",
       "      <td>100</td>\n",
       "      <td>51</td>\n",
       "      <td>97.0</td>\n",
       "    </tr>\n",
       "    <tr>\n",
       "      <th>4</th>\n",
       "      <td>20,000 Leagues Under The Sea</td>\n",
       "      <td>This 1954 Disney version of Jules Verne's 20,0...</td>\n",
       "      <td>One of Disney's finest live-action adventures,...</td>\n",
       "      <td>G</td>\n",
       "      <td>Action &amp; Adventure, Drama, Kids &amp; Family</td>\n",
       "      <td>Richard Fleischer</td>\n",
       "      <td>Earl Felton</td>\n",
       "      <td>James Mason, Kirk Douglas, Paul Lukas, Peter L...</td>\n",
       "      <td>1/1/1954</td>\n",
       "      <td>20-05-2003</td>\n",
       "      <td>127.0</td>\n",
       "      <td>Disney</td>\n",
       "      <td>Fresh</td>\n",
       "      <td>89</td>\n",
       "      <td>27</td>\n",
       "      <td>74.0</td>\n",
       "    </tr>\n",
       "  </tbody>\n",
       "</table>\n",
       "</div>"
      ],
      "text/plain": [
       "                                         movie_title  \\\n",
       "0  Percy Jackson & the Olympians: The Lightning T...   \n",
       "1                                        Please Give   \n",
       "2                                                 10   \n",
       "3                    12 Angry Men (Twelve Angry Men)   \n",
       "4                       20,000 Leagues Under The Sea   \n",
       "\n",
       "                                          movie_info  \\\n",
       "0  A teenager discovers he's the descendant of a ...   \n",
       "1  Kate has a lot on her mind. There's the ethics...   \n",
       "2  Blake Edwards' 10 stars Dudley Moore as George...   \n",
       "3  A Puerto Rican youth is on trial for murder, a...   \n",
       "4  This 1954 Disney version of Jules Verne's 20,0...   \n",
       "\n",
       "                                   critics_consensus rating  \\\n",
       "0  Though it may seem like just another Harry Pot...     PG   \n",
       "1  Nicole Holofcener's newest might seem slight i...      R   \n",
       "2                                                NaN      R   \n",
       "3  Sidney Lumet's feature debut is a superbly wri...     NR   \n",
       "4  One of Disney's finest live-action adventures,...      G   \n",
       "\n",
       "                                               genre          directors  \\\n",
       "0  Action & Adventure, Comedy, Drama, Science Fic...     Chris Columbus   \n",
       "1                                             Comedy  Nicole Holofcener   \n",
       "2                                    Comedy, Romance      Blake Edwards   \n",
       "3                                    Classics, Drama       Sidney Lumet   \n",
       "4           Action & Adventure, Drama, Kids & Family  Richard Fleischer   \n",
       "\n",
       "             writers                                               cast  \\\n",
       "0       Craig Titley  Logan Lerman, Brandon T. Jackson, Alexandra Da...   \n",
       "1  Nicole Holofcener  Catherine Keener, Amanda Peet, Oliver Platt, R...   \n",
       "2      Blake Edwards  Dudley Moore, Bo Derek, Julie Andrews, Robert ...   \n",
       "3      Reginald Rose  Martin Balsam, John Fiedler, Lee J. Cobb, E.G....   \n",
       "4        Earl Felton  James Mason, Kirk Douglas, Paul Lukas, Peter L...   \n",
       "\n",
       "  in_theaters_date on_streaming_date  runtime_in_minutes  \\\n",
       "0        12/2/2010        29-06-2010                83.0   \n",
       "1       30-04-2010        19-10-2010                90.0   \n",
       "2        5/10/1979        27-08-1997               118.0   \n",
       "3       13-04-1957          6/3/2001                95.0   \n",
       "4         1/1/1954        20-05-2003               127.0   \n",
       "\n",
       "              studio_name tomatometer_status  tomatometer_rating  \\\n",
       "0        20th Century Fox             Rotten                  49   \n",
       "1  Sony Pictures Classics    Certified Fresh                  86   \n",
       "2             Waner Bros.              Fresh                  68   \n",
       "3    Criterion Collection    Certified Fresh                 100   \n",
       "4                  Disney              Fresh                  89   \n",
       "\n",
       "   tomatometer_count  audience_rating  \n",
       "0                144             53.0  \n",
       "1                140             64.0  \n",
       "2                 22             53.0  \n",
       "3                 51             97.0  \n",
       "4                 27             74.0  "
      ]
     },
     "execution_count": 46,
     "metadata": {},
     "output_type": "execute_result"
    }
   ],
   "source": [
    "df.head()"
   ]
  },
  {
   "cell_type": "code",
   "execution_count": 47,
   "metadata": {
    "colab": {
     "base_uri": "https://localhost:8080/"
    },
    "id": "4jfjrvqOydRb",
    "outputId": "cc1122f0-7aef-46a0-84b6-d602b7e38584"
   },
   "outputs": [
    {
     "name": "stdout",
     "output_type": "stream",
     "text": [
      "<class 'pandas.core.frame.DataFrame'>\n",
      "RangeIndex: 16638 entries, 0 to 16637\n",
      "Data columns (total 16 columns):\n",
      " #   Column              Non-Null Count  Dtype  \n",
      "---  ------              --------------  -----  \n",
      " 0   movie_title         16638 non-null  object \n",
      " 1   movie_info          16614 non-null  object \n",
      " 2   critics_consensus   8309 non-null   object \n",
      " 3   rating              16638 non-null  object \n",
      " 4   genre               16621 non-null  object \n",
      " 5   directors           16524 non-null  object \n",
      " 6   writers             15289 non-null  object \n",
      " 7   cast                16354 non-null  object \n",
      " 8   in_theaters_date    15823 non-null  object \n",
      " 9   on_streaming_date   16636 non-null  object \n",
      " 10  runtime_in_minutes  16483 non-null  float64\n",
      " 11  studio_name         16222 non-null  object \n",
      " 12  tomatometer_status  16638 non-null  object \n",
      " 13  tomatometer_rating  16638 non-null  int64  \n",
      " 14  tomatometer_count   16638 non-null  int64  \n",
      " 15  audience_rating     16386 non-null  float64\n",
      "dtypes: float64(2), int64(2), object(12)\n",
      "memory usage: 2.0+ MB\n"
     ]
    }
   ],
   "source": [
    "df.info() #Checking the Data type and Column names"
   ]
  },
  {
   "cell_type": "code",
   "execution_count": 48,
   "metadata": {
    "colab": {
     "base_uri": "https://localhost:8080/",
     "height": 585
    },
    "id": "EWU8rsUKy7Cc",
    "outputId": "01d5bd3e-38a8-4af6-f529-8a8b1001c970"
   },
   "outputs": [
    {
     "data": {
      "text/plain": [
       "movie_title              0\n",
       "movie_info              24\n",
       "critics_consensus     8329\n",
       "rating                   0\n",
       "genre                   17\n",
       "directors              114\n",
       "writers               1349\n",
       "cast                   284\n",
       "in_theaters_date       815\n",
       "on_streaming_date        2\n",
       "runtime_in_minutes     155\n",
       "studio_name            416\n",
       "tomatometer_status       0\n",
       "tomatometer_rating       0\n",
       "tomatometer_count        0\n",
       "audience_rating        252\n",
       "dtype: int64"
      ]
     },
     "execution_count": 48,
     "metadata": {},
     "output_type": "execute_result"
    }
   ],
   "source": [
    "df.isnull().sum() #getting the count of null values in each column"
   ]
  },
  {
   "cell_type": "markdown",
   "metadata": {
    "id": "FipGObPrBWm9"
   },
   "source": [
    "Since the forecasting of audience_rating has to be done and hence I have eliminated the null values in the audience_rating column as it will introduce anomalies if we include mean or median values and will affect the accuracy of the prediction."
   ]
  },
  {
   "cell_type": "code",
   "execution_count": 49,
   "metadata": {
    "id": "6RPLzoiuy6M8"
   },
   "outputs": [],
   "source": [
    "data=df.dropna(subset=[\"audience_rating\"]) #eliminating null values"
   ]
  },
  {
   "cell_type": "markdown",
   "metadata": {},
   "source": [
    "Encoding the string content with lable encoder, converting it into numeric values to find correlation, One-Hot encoding could well be used but it will in turn increase the complexity by adding more columns and hence i have went ahead with Label Encoder"
   ]
  },
  {
   "cell_type": "code",
   "execution_count": null,
   "metadata": {
    "colab": {
     "base_uri": "https://localhost:8080/"
    },
    "id": "awMex0MODdTR",
    "outputId": "f9b8d9c3-53f2-408f-83ec-a06ac4053e4a"
   },
   "outputs": [],
   "source": [
    "label_encoders = {}\n",
    "categorical_columns = ['movie_title', 'movie_info', 'critics_consensus', 'cast', 'in_theaters_date', 'on_streaming_date','rating', 'genre', 'directors', 'writers', 'studio_name','tomatometer_status']\n",
    "\n",
    "for col in categorical_columns:\n",
    "    le = LabelEncoder()\n",
    "    data[col] = le.fit_transform(data[col].astype(str))  # Convert to string to avoid errors with non-numeric categories\n",
    "    label_encoders[col] = le"
   ]
  },
  {
   "cell_type": "code",
   "execution_count": 51,
   "metadata": {
    "colab": {
     "base_uri": "https://localhost:8080/",
     "height": 443
    },
    "id": "3sF_evk2DdXu",
    "outputId": "091da700-856d-4ec9-c99f-a7e9cbaa1e17"
   },
   "outputs": [
    {
     "data": {
      "text/html": [
       "<div>\n",
       "<style scoped>\n",
       "    .dataframe tbody tr th:only-of-type {\n",
       "        vertical-align: middle;\n",
       "    }\n",
       "\n",
       "    .dataframe tbody tr th {\n",
       "        vertical-align: top;\n",
       "    }\n",
       "\n",
       "    .dataframe thead th {\n",
       "        text-align: right;\n",
       "    }\n",
       "</style>\n",
       "<table border=\"1\" class=\"dataframe\">\n",
       "  <thead>\n",
       "    <tr style=\"text-align: right;\">\n",
       "      <th></th>\n",
       "      <th>movie_title</th>\n",
       "      <th>movie_info</th>\n",
       "      <th>critics_consensus</th>\n",
       "      <th>rating</th>\n",
       "      <th>genre</th>\n",
       "      <th>directors</th>\n",
       "      <th>writers</th>\n",
       "      <th>cast</th>\n",
       "      <th>in_theaters_date</th>\n",
       "      <th>on_streaming_date</th>\n",
       "      <th>runtime_in_minutes</th>\n",
       "      <th>studio_name</th>\n",
       "      <th>tomatometer_status</th>\n",
       "      <th>tomatometer_rating</th>\n",
       "      <th>tomatometer_count</th>\n",
       "      <th>audience_rating</th>\n",
       "    </tr>\n",
       "  </thead>\n",
       "  <tbody>\n",
       "    <tr>\n",
       "      <th>0</th>\n",
       "      <td>9076</td>\n",
       "      <td>1944</td>\n",
       "      <td>7204</td>\n",
       "      <td>3</td>\n",
       "      <td>216</td>\n",
       "      <td>1313</td>\n",
       "      <td>2298</td>\n",
       "      <td>9646</td>\n",
       "      <td>873</td>\n",
       "      <td>1594</td>\n",
       "      <td>83.0</td>\n",
       "      <td>6</td>\n",
       "      <td>2</td>\n",
       "      <td>49</td>\n",
       "      <td>144</td>\n",
       "      <td>53.0</td>\n",
       "    </tr>\n",
       "    <tr>\n",
       "      <th>1</th>\n",
       "      <td>9226</td>\n",
       "      <td>9290</td>\n",
       "      <td>4670</td>\n",
       "      <td>6</td>\n",
       "      <td>750</td>\n",
       "      <td>5809</td>\n",
       "      <td>8600</td>\n",
       "      <td>2444</td>\n",
       "      <td>4384</td>\n",
       "      <td>802</td>\n",
       "      <td>90.0</td>\n",
       "      <td>2276</td>\n",
       "      <td>0</td>\n",
       "      <td>86</td>\n",
       "      <td>140</td>\n",
       "      <td>64.0</td>\n",
       "    </tr>\n",
       "    <tr>\n",
       "      <th>2</th>\n",
       "      <td>18</td>\n",
       "      <td>4234</td>\n",
       "      <td>8278</td>\n",
       "      <td>6</td>\n",
       "      <td>856</td>\n",
       "      <td>870</td>\n",
       "      <td>1273</td>\n",
       "      <td>4194</td>\n",
       "      <td>4761</td>\n",
       "      <td>1462</td>\n",
       "      <td>118.0</td>\n",
       "      <td>2702</td>\n",
       "      <td>1</td>\n",
       "      <td>68</td>\n",
       "      <td>22</td>\n",
       "      <td>53.0</td>\n",
       "    </tr>\n",
       "    <tr>\n",
       "      <th>3</th>\n",
       "      <td>47</td>\n",
       "      <td>444</td>\n",
       "      <td>5469</td>\n",
       "      <td>2</td>\n",
       "      <td>687</td>\n",
       "      <td>7151</td>\n",
       "      <td>9463</td>\n",
       "      <td>10179</td>\n",
       "      <td>1016</td>\n",
       "      <td>1979</td>\n",
       "      <td>95.0</td>\n",
       "      <td>638</td>\n",
       "      <td>0</td>\n",
       "      <td>100</td>\n",
       "      <td>51</td>\n",
       "      <td>97.0</td>\n",
       "    </tr>\n",
       "    <tr>\n",
       "      <th>4</th>\n",
       "      <td>97</td>\n",
       "      <td>13769</td>\n",
       "      <td>4782</td>\n",
       "      <td>0</td>\n",
       "      <td>285</td>\n",
       "      <td>6466</td>\n",
       "      <td>3321</td>\n",
       "      <td>6642</td>\n",
       "      <td>33</td>\n",
       "      <td>930</td>\n",
       "      <td>127.0</td>\n",
       "      <td>704</td>\n",
       "      <td>1</td>\n",
       "      <td>89</td>\n",
       "      <td>27</td>\n",
       "      <td>74.0</td>\n",
       "    </tr>\n",
       "    <tr>\n",
       "      <th>...</th>\n",
       "      <td>...</td>\n",
       "      <td>...</td>\n",
       "      <td>...</td>\n",
       "      <td>...</td>\n",
       "      <td>...</td>\n",
       "      <td>...</td>\n",
       "      <td>...</td>\n",
       "      <td>...</td>\n",
       "      <td>...</td>\n",
       "      <td>...</td>\n",
       "      <td>...</td>\n",
       "      <td>...</td>\n",
       "      <td>...</td>\n",
       "      <td>...</td>\n",
       "      <td>...</td>\n",
       "      <td>...</td>\n",
       "    </tr>\n",
       "    <tr>\n",
       "      <th>16633</th>\n",
       "      <td>15854</td>\n",
       "      <td>3792</td>\n",
       "      <td>8278</td>\n",
       "      <td>6</td>\n",
       "      <td>983</td>\n",
       "      <td>4888</td>\n",
       "      <td>7266</td>\n",
       "      <td>3496</td>\n",
       "      <td>2292</td>\n",
       "      <td>1446</td>\n",
       "      <td>104.0</td>\n",
       "      <td>1493</td>\n",
       "      <td>2</td>\n",
       "      <td>56</td>\n",
       "      <td>9</td>\n",
       "      <td>74.0</td>\n",
       "    </tr>\n",
       "    <tr>\n",
       "      <th>16634</th>\n",
       "      <td>15855</td>\n",
       "      <td>13225</td>\n",
       "      <td>6538</td>\n",
       "      <td>3</td>\n",
       "      <td>15</td>\n",
       "      <td>1117</td>\n",
       "      <td>5091</td>\n",
       "      <td>5461</td>\n",
       "      <td>4669</td>\n",
       "      <td>2074</td>\n",
       "      <td>108.0</td>\n",
       "      <td>2690</td>\n",
       "      <td>0</td>\n",
       "      <td>97</td>\n",
       "      <td>279</td>\n",
       "      <td>92.0</td>\n",
       "    </tr>\n",
       "    <tr>\n",
       "      <th>16635</th>\n",
       "      <td>15856</td>\n",
       "      <td>7086</td>\n",
       "      <td>8278</td>\n",
       "      <td>2</td>\n",
       "      <td>58</td>\n",
       "      <td>8153</td>\n",
       "      <td>11964</td>\n",
       "      <td>1016</td>\n",
       "      <td>1895</td>\n",
       "      <td>1684</td>\n",
       "      <td>142.0</td>\n",
       "      <td>988</td>\n",
       "      <td>1</td>\n",
       "      <td>78</td>\n",
       "      <td>9</td>\n",
       "      <td>87.0</td>\n",
       "    </tr>\n",
       "    <tr>\n",
       "      <th>16636</th>\n",
       "      <td>15857</td>\n",
       "      <td>5915</td>\n",
       "      <td>8278</td>\n",
       "      <td>3</td>\n",
       "      <td>687</td>\n",
       "      <td>1593</td>\n",
       "      <td>2329</td>\n",
       "      <td>14253</td>\n",
       "      <td>1790</td>\n",
       "      <td>852</td>\n",
       "      <td>139.0</td>\n",
       "      <td>1881</td>\n",
       "      <td>1</td>\n",
       "      <td>95</td>\n",
       "      <td>21</td>\n",
       "      <td>91.0</td>\n",
       "    </tr>\n",
       "    <tr>\n",
       "      <th>16637</th>\n",
       "      <td>15858</td>\n",
       "      <td>1538</td>\n",
       "      <td>8278</td>\n",
       "      <td>3</td>\n",
       "      <td>96</td>\n",
       "      <td>2176</td>\n",
       "      <td>2328</td>\n",
       "      <td>2189</td>\n",
       "      <td>1314</td>\n",
       "      <td>1469</td>\n",
       "      <td>117.0</td>\n",
       "      <td>2403</td>\n",
       "      <td>2</td>\n",
       "      <td>57</td>\n",
       "      <td>7</td>\n",
       "      <td>62.0</td>\n",
       "    </tr>\n",
       "  </tbody>\n",
       "</table>\n",
       "<p>16386 rows × 16 columns</p>\n",
       "</div>"
      ],
      "text/plain": [
       "       movie_title  movie_info  critics_consensus  rating  genre  directors  \\\n",
       "0             9076        1944               7204       3    216       1313   \n",
       "1             9226        9290               4670       6    750       5809   \n",
       "2               18        4234               8278       6    856        870   \n",
       "3               47         444               5469       2    687       7151   \n",
       "4               97       13769               4782       0    285       6466   \n",
       "...            ...         ...                ...     ...    ...        ...   \n",
       "16633        15854        3792               8278       6    983       4888   \n",
       "16634        15855       13225               6538       3     15       1117   \n",
       "16635        15856        7086               8278       2     58       8153   \n",
       "16636        15857        5915               8278       3    687       1593   \n",
       "16637        15858        1538               8278       3     96       2176   \n",
       "\n",
       "       writers   cast  in_theaters_date  on_streaming_date  \\\n",
       "0         2298   9646               873               1594   \n",
       "1         8600   2444              4384                802   \n",
       "2         1273   4194              4761               1462   \n",
       "3         9463  10179              1016               1979   \n",
       "4         3321   6642                33                930   \n",
       "...        ...    ...               ...                ...   \n",
       "16633     7266   3496              2292               1446   \n",
       "16634     5091   5461              4669               2074   \n",
       "16635    11964   1016              1895               1684   \n",
       "16636     2329  14253              1790                852   \n",
       "16637     2328   2189              1314               1469   \n",
       "\n",
       "       runtime_in_minutes  studio_name  tomatometer_status  \\\n",
       "0                    83.0            6                   2   \n",
       "1                    90.0         2276                   0   \n",
       "2                   118.0         2702                   1   \n",
       "3                    95.0          638                   0   \n",
       "4                   127.0          704                   1   \n",
       "...                   ...          ...                 ...   \n",
       "16633               104.0         1493                   2   \n",
       "16634               108.0         2690                   0   \n",
       "16635               142.0          988                   1   \n",
       "16636               139.0         1881                   1   \n",
       "16637               117.0         2403                   2   \n",
       "\n",
       "       tomatometer_rating  tomatometer_count  audience_rating  \n",
       "0                      49                144             53.0  \n",
       "1                      86                140             64.0  \n",
       "2                      68                 22             53.0  \n",
       "3                     100                 51             97.0  \n",
       "4                      89                 27             74.0  \n",
       "...                   ...                ...              ...  \n",
       "16633                  56                  9             74.0  \n",
       "16634                  97                279             92.0  \n",
       "16635                  78                  9             87.0  \n",
       "16636                  95                 21             91.0  \n",
       "16637                  57                  7             62.0  \n",
       "\n",
       "[16386 rows x 16 columns]"
      ]
     },
     "execution_count": 51,
     "metadata": {},
     "output_type": "execute_result"
    }
   ],
   "source": [
    "data #The data after Encoding"
   ]
  },
  {
   "cell_type": "code",
   "execution_count": 54,
   "metadata": {},
   "outputs": [
    {
     "data": {
      "text/html": [
       "<div>\n",
       "<style scoped>\n",
       "    .dataframe tbody tr th:only-of-type {\n",
       "        vertical-align: middle;\n",
       "    }\n",
       "\n",
       "    .dataframe tbody tr th {\n",
       "        vertical-align: top;\n",
       "    }\n",
       "\n",
       "    .dataframe thead th {\n",
       "        text-align: right;\n",
       "    }\n",
       "</style>\n",
       "<table border=\"1\" class=\"dataframe\">\n",
       "  <thead>\n",
       "    <tr style=\"text-align: right;\">\n",
       "      <th></th>\n",
       "      <th>movie_title</th>\n",
       "      <th>movie_info</th>\n",
       "      <th>critics_consensus</th>\n",
       "      <th>rating</th>\n",
       "      <th>genre</th>\n",
       "      <th>directors</th>\n",
       "      <th>writers</th>\n",
       "      <th>cast</th>\n",
       "      <th>in_theaters_date</th>\n",
       "      <th>on_streaming_date</th>\n",
       "      <th>runtime_in_minutes</th>\n",
       "      <th>studio_name</th>\n",
       "      <th>tomatometer_status</th>\n",
       "      <th>tomatometer_rating</th>\n",
       "      <th>tomatometer_count</th>\n",
       "      <th>audience_rating</th>\n",
       "    </tr>\n",
       "  </thead>\n",
       "  <tbody>\n",
       "    <tr>\n",
       "      <th>movie_title</th>\n",
       "      <td>1.000000</td>\n",
       "      <td>0.065735</td>\n",
       "      <td>0.094110</td>\n",
       "      <td>-0.008366</td>\n",
       "      <td>-0.021857</td>\n",
       "      <td>0.010879</td>\n",
       "      <td>-0.010593</td>\n",
       "      <td>0.013808</td>\n",
       "      <td>-0.005924</td>\n",
       "      <td>-0.004874</td>\n",
       "      <td>0.020485</td>\n",
       "      <td>0.005104</td>\n",
       "      <td>-0.007388</td>\n",
       "      <td>0.023326</td>\n",
       "      <td>0.019865</td>\n",
       "      <td>0.021906</td>\n",
       "    </tr>\n",
       "    <tr>\n",
       "      <th>movie_info</th>\n",
       "      <td>0.065735</td>\n",
       "      <td>1.000000</td>\n",
       "      <td>0.019677</td>\n",
       "      <td>-0.031260</td>\n",
       "      <td>-0.030142</td>\n",
       "      <td>0.036225</td>\n",
       "      <td>0.016140</td>\n",
       "      <td>0.044771</td>\n",
       "      <td>-0.015516</td>\n",
       "      <td>-0.013832</td>\n",
       "      <td>0.005755</td>\n",
       "      <td>0.026978</td>\n",
       "      <td>-0.006470</td>\n",
       "      <td>0.020049</td>\n",
       "      <td>-0.014073</td>\n",
       "      <td>0.034712</td>\n",
       "    </tr>\n",
       "    <tr>\n",
       "      <th>critics_consensus</th>\n",
       "      <td>0.094110</td>\n",
       "      <td>0.019677</td>\n",
       "      <td>1.000000</td>\n",
       "      <td>-0.161280</td>\n",
       "      <td>0.000170</td>\n",
       "      <td>0.004132</td>\n",
       "      <td>0.026186</td>\n",
       "      <td>0.016009</td>\n",
       "      <td>-0.014446</td>\n",
       "      <td>0.016180</td>\n",
       "      <td>-0.093738</td>\n",
       "      <td>-0.006415</td>\n",
       "      <td>0.236844</td>\n",
       "      <td>-0.077169</td>\n",
       "      <td>-0.468565</td>\n",
       "      <td>-0.127764</td>\n",
       "    </tr>\n",
       "    <tr>\n",
       "      <th>rating</th>\n",
       "      <td>-0.008366</td>\n",
       "      <td>-0.031260</td>\n",
       "      <td>-0.161280</td>\n",
       "      <td>1.000000</td>\n",
       "      <td>0.068580</td>\n",
       "      <td>0.016824</td>\n",
       "      <td>-0.042317</td>\n",
       "      <td>-0.013754</td>\n",
       "      <td>-0.008892</td>\n",
       "      <td>-0.008744</td>\n",
       "      <td>0.080477</td>\n",
       "      <td>0.016955</td>\n",
       "      <td>0.096127</td>\n",
       "      <td>-0.232154</td>\n",
       "      <td>0.242313</td>\n",
       "      <td>-0.167589</td>\n",
       "    </tr>\n",
       "    <tr>\n",
       "      <th>genre</th>\n",
       "      <td>-0.021857</td>\n",
       "      <td>-0.030142</td>\n",
       "      <td>0.000170</td>\n",
       "      <td>0.068580</td>\n",
       "      <td>1.000000</td>\n",
       "      <td>-0.032253</td>\n",
       "      <td>0.035192</td>\n",
       "      <td>-0.018816</td>\n",
       "      <td>0.037655</td>\n",
       "      <td>0.002970</td>\n",
       "      <td>-0.062443</td>\n",
       "      <td>-0.033684</td>\n",
       "      <td>-0.015826</td>\n",
       "      <td>0.015858</td>\n",
       "      <td>-0.041026</td>\n",
       "      <td>-0.030530</td>\n",
       "    </tr>\n",
       "    <tr>\n",
       "      <th>directors</th>\n",
       "      <td>0.010879</td>\n",
       "      <td>0.036225</td>\n",
       "      <td>0.004132</td>\n",
       "      <td>0.016824</td>\n",
       "      <td>-0.032253</td>\n",
       "      <td>1.000000</td>\n",
       "      <td>0.355700</td>\n",
       "      <td>0.049733</td>\n",
       "      <td>-0.008539</td>\n",
       "      <td>0.001917</td>\n",
       "      <td>0.028828</td>\n",
       "      <td>0.008970</td>\n",
       "      <td>0.015306</td>\n",
       "      <td>-0.019526</td>\n",
       "      <td>0.006712</td>\n",
       "      <td>0.002740</td>\n",
       "    </tr>\n",
       "    <tr>\n",
       "      <th>writers</th>\n",
       "      <td>-0.010593</td>\n",
       "      <td>0.016140</td>\n",
       "      <td>0.026186</td>\n",
       "      <td>-0.042317</td>\n",
       "      <td>0.035192</td>\n",
       "      <td>0.355700</td>\n",
       "      <td>1.000000</td>\n",
       "      <td>0.072166</td>\n",
       "      <td>0.005926</td>\n",
       "      <td>0.013674</td>\n",
       "      <td>-0.027722</td>\n",
       "      <td>0.001721</td>\n",
       "      <td>-0.026244</td>\n",
       "      <td>0.048606</td>\n",
       "      <td>-0.057658</td>\n",
       "      <td>0.042267</td>\n",
       "    </tr>\n",
       "    <tr>\n",
       "      <th>cast</th>\n",
       "      <td>0.013808</td>\n",
       "      <td>0.044771</td>\n",
       "      <td>0.016009</td>\n",
       "      <td>-0.013754</td>\n",
       "      <td>-0.018816</td>\n",
       "      <td>0.049733</td>\n",
       "      <td>0.072166</td>\n",
       "      <td>1.000000</td>\n",
       "      <td>-0.011355</td>\n",
       "      <td>0.011391</td>\n",
       "      <td>0.004029</td>\n",
       "      <td>0.004205</td>\n",
       "      <td>-0.013478</td>\n",
       "      <td>0.019609</td>\n",
       "      <td>-0.015165</td>\n",
       "      <td>0.029818</td>\n",
       "    </tr>\n",
       "    <tr>\n",
       "      <th>in_theaters_date</th>\n",
       "      <td>-0.005924</td>\n",
       "      <td>-0.015516</td>\n",
       "      <td>-0.014446</td>\n",
       "      <td>-0.008892</td>\n",
       "      <td>0.037655</td>\n",
       "      <td>-0.008539</td>\n",
       "      <td>0.005926</td>\n",
       "      <td>-0.011355</td>\n",
       "      <td>1.000000</td>\n",
       "      <td>0.057831</td>\n",
       "      <td>-0.027004</td>\n",
       "      <td>0.007360</td>\n",
       "      <td>-0.000219</td>\n",
       "      <td>-0.009804</td>\n",
       "      <td>0.025748</td>\n",
       "      <td>-0.037289</td>\n",
       "    </tr>\n",
       "    <tr>\n",
       "      <th>on_streaming_date</th>\n",
       "      <td>-0.004874</td>\n",
       "      <td>-0.013832</td>\n",
       "      <td>0.016180</td>\n",
       "      <td>-0.008744</td>\n",
       "      <td>0.002970</td>\n",
       "      <td>0.001917</td>\n",
       "      <td>0.013674</td>\n",
       "      <td>0.011391</td>\n",
       "      <td>0.057831</td>\n",
       "      <td>1.000000</td>\n",
       "      <td>-0.009409</td>\n",
       "      <td>0.002021</td>\n",
       "      <td>0.021331</td>\n",
       "      <td>-0.013200</td>\n",
       "      <td>-0.034233</td>\n",
       "      <td>-0.016129</td>\n",
       "    </tr>\n",
       "    <tr>\n",
       "      <th>runtime_in_minutes</th>\n",
       "      <td>0.020485</td>\n",
       "      <td>0.005755</td>\n",
       "      <td>-0.093738</td>\n",
       "      <td>0.080477</td>\n",
       "      <td>-0.062443</td>\n",
       "      <td>0.028828</td>\n",
       "      <td>-0.027722</td>\n",
       "      <td>0.004029</td>\n",
       "      <td>-0.027004</td>\n",
       "      <td>-0.009409</td>\n",
       "      <td>1.000000</td>\n",
       "      <td>0.051852</td>\n",
       "      <td>-0.106412</td>\n",
       "      <td>0.075319</td>\n",
       "      <td>0.189104</td>\n",
       "      <td>0.168507</td>\n",
       "    </tr>\n",
       "    <tr>\n",
       "      <th>studio_name</th>\n",
       "      <td>0.005104</td>\n",
       "      <td>0.026978</td>\n",
       "      <td>-0.006415</td>\n",
       "      <td>0.016955</td>\n",
       "      <td>-0.033684</td>\n",
       "      <td>0.008970</td>\n",
       "      <td>0.001721</td>\n",
       "      <td>0.004205</td>\n",
       "      <td>0.007360</td>\n",
       "      <td>0.002021</td>\n",
       "      <td>0.051852</td>\n",
       "      <td>1.000000</td>\n",
       "      <td>0.015904</td>\n",
       "      <td>-0.014747</td>\n",
       "      <td>0.024706</td>\n",
       "      <td>0.019733</td>\n",
       "    </tr>\n",
       "    <tr>\n",
       "      <th>tomatometer_status</th>\n",
       "      <td>-0.007388</td>\n",
       "      <td>-0.006470</td>\n",
       "      <td>0.236844</td>\n",
       "      <td>0.096127</td>\n",
       "      <td>-0.015826</td>\n",
       "      <td>0.015306</td>\n",
       "      <td>-0.026244</td>\n",
       "      <td>-0.013478</td>\n",
       "      <td>-0.000219</td>\n",
       "      <td>0.021331</td>\n",
       "      <td>-0.106412</td>\n",
       "      <td>0.015904</td>\n",
       "      <td>1.000000</td>\n",
       "      <td>-0.807827</td>\n",
       "      <td>-0.276484</td>\n",
       "      <td>-0.582228</td>\n",
       "    </tr>\n",
       "    <tr>\n",
       "      <th>tomatometer_rating</th>\n",
       "      <td>0.023326</td>\n",
       "      <td>0.020049</td>\n",
       "      <td>-0.077169</td>\n",
       "      <td>-0.232154</td>\n",
       "      <td>0.015858</td>\n",
       "      <td>-0.019526</td>\n",
       "      <td>0.048606</td>\n",
       "      <td>0.019609</td>\n",
       "      <td>-0.009804</td>\n",
       "      <td>-0.013200</td>\n",
       "      <td>0.075319</td>\n",
       "      <td>-0.014747</td>\n",
       "      <td>-0.807827</td>\n",
       "      <td>1.000000</td>\n",
       "      <td>0.083782</td>\n",
       "      <td>0.660111</td>\n",
       "    </tr>\n",
       "    <tr>\n",
       "      <th>tomatometer_count</th>\n",
       "      <td>0.019865</td>\n",
       "      <td>-0.014073</td>\n",
       "      <td>-0.468565</td>\n",
       "      <td>0.242313</td>\n",
       "      <td>-0.041026</td>\n",
       "      <td>0.006712</td>\n",
       "      <td>-0.057658</td>\n",
       "      <td>-0.015165</td>\n",
       "      <td>0.025748</td>\n",
       "      <td>-0.034233</td>\n",
       "      <td>0.189104</td>\n",
       "      <td>0.024706</td>\n",
       "      <td>-0.276484</td>\n",
       "      <td>0.083782</td>\n",
       "      <td>1.000000</td>\n",
       "      <td>0.141012</td>\n",
       "    </tr>\n",
       "    <tr>\n",
       "      <th>audience_rating</th>\n",
       "      <td>0.021906</td>\n",
       "      <td>0.034712</td>\n",
       "      <td>-0.127764</td>\n",
       "      <td>-0.167589</td>\n",
       "      <td>-0.030530</td>\n",
       "      <td>0.002740</td>\n",
       "      <td>0.042267</td>\n",
       "      <td>0.029818</td>\n",
       "      <td>-0.037289</td>\n",
       "      <td>-0.016129</td>\n",
       "      <td>0.168507</td>\n",
       "      <td>0.019733</td>\n",
       "      <td>-0.582228</td>\n",
       "      <td>0.660111</td>\n",
       "      <td>0.141012</td>\n",
       "      <td>1.000000</td>\n",
       "    </tr>\n",
       "  </tbody>\n",
       "</table>\n",
       "</div>"
      ],
      "text/plain": [
       "                    movie_title  movie_info  critics_consensus    rating  \\\n",
       "movie_title            1.000000    0.065735           0.094110 -0.008366   \n",
       "movie_info             0.065735    1.000000           0.019677 -0.031260   \n",
       "critics_consensus      0.094110    0.019677           1.000000 -0.161280   \n",
       "rating                -0.008366   -0.031260          -0.161280  1.000000   \n",
       "genre                 -0.021857   -0.030142           0.000170  0.068580   \n",
       "directors              0.010879    0.036225           0.004132  0.016824   \n",
       "writers               -0.010593    0.016140           0.026186 -0.042317   \n",
       "cast                   0.013808    0.044771           0.016009 -0.013754   \n",
       "in_theaters_date      -0.005924   -0.015516          -0.014446 -0.008892   \n",
       "on_streaming_date     -0.004874   -0.013832           0.016180 -0.008744   \n",
       "runtime_in_minutes     0.020485    0.005755          -0.093738  0.080477   \n",
       "studio_name            0.005104    0.026978          -0.006415  0.016955   \n",
       "tomatometer_status    -0.007388   -0.006470           0.236844  0.096127   \n",
       "tomatometer_rating     0.023326    0.020049          -0.077169 -0.232154   \n",
       "tomatometer_count      0.019865   -0.014073          -0.468565  0.242313   \n",
       "audience_rating        0.021906    0.034712          -0.127764 -0.167589   \n",
       "\n",
       "                       genre  directors   writers      cast  in_theaters_date  \\\n",
       "movie_title        -0.021857   0.010879 -0.010593  0.013808         -0.005924   \n",
       "movie_info         -0.030142   0.036225  0.016140  0.044771         -0.015516   \n",
       "critics_consensus   0.000170   0.004132  0.026186  0.016009         -0.014446   \n",
       "rating              0.068580   0.016824 -0.042317 -0.013754         -0.008892   \n",
       "genre               1.000000  -0.032253  0.035192 -0.018816          0.037655   \n",
       "directors          -0.032253   1.000000  0.355700  0.049733         -0.008539   \n",
       "writers             0.035192   0.355700  1.000000  0.072166          0.005926   \n",
       "cast               -0.018816   0.049733  0.072166  1.000000         -0.011355   \n",
       "in_theaters_date    0.037655  -0.008539  0.005926 -0.011355          1.000000   \n",
       "on_streaming_date   0.002970   0.001917  0.013674  0.011391          0.057831   \n",
       "runtime_in_minutes -0.062443   0.028828 -0.027722  0.004029         -0.027004   \n",
       "studio_name        -0.033684   0.008970  0.001721  0.004205          0.007360   \n",
       "tomatometer_status -0.015826   0.015306 -0.026244 -0.013478         -0.000219   \n",
       "tomatometer_rating  0.015858  -0.019526  0.048606  0.019609         -0.009804   \n",
       "tomatometer_count  -0.041026   0.006712 -0.057658 -0.015165          0.025748   \n",
       "audience_rating    -0.030530   0.002740  0.042267  0.029818         -0.037289   \n",
       "\n",
       "                    on_streaming_date  runtime_in_minutes  studio_name  \\\n",
       "movie_title                 -0.004874            0.020485     0.005104   \n",
       "movie_info                  -0.013832            0.005755     0.026978   \n",
       "critics_consensus            0.016180           -0.093738    -0.006415   \n",
       "rating                      -0.008744            0.080477     0.016955   \n",
       "genre                        0.002970           -0.062443    -0.033684   \n",
       "directors                    0.001917            0.028828     0.008970   \n",
       "writers                      0.013674           -0.027722     0.001721   \n",
       "cast                         0.011391            0.004029     0.004205   \n",
       "in_theaters_date             0.057831           -0.027004     0.007360   \n",
       "on_streaming_date            1.000000           -0.009409     0.002021   \n",
       "runtime_in_minutes          -0.009409            1.000000     0.051852   \n",
       "studio_name                  0.002021            0.051852     1.000000   \n",
       "tomatometer_status           0.021331           -0.106412     0.015904   \n",
       "tomatometer_rating          -0.013200            0.075319    -0.014747   \n",
       "tomatometer_count           -0.034233            0.189104     0.024706   \n",
       "audience_rating             -0.016129            0.168507     0.019733   \n",
       "\n",
       "                    tomatometer_status  tomatometer_rating  tomatometer_count  \\\n",
       "movie_title                  -0.007388            0.023326           0.019865   \n",
       "movie_info                   -0.006470            0.020049          -0.014073   \n",
       "critics_consensus             0.236844           -0.077169          -0.468565   \n",
       "rating                        0.096127           -0.232154           0.242313   \n",
       "genre                        -0.015826            0.015858          -0.041026   \n",
       "directors                     0.015306           -0.019526           0.006712   \n",
       "writers                      -0.026244            0.048606          -0.057658   \n",
       "cast                         -0.013478            0.019609          -0.015165   \n",
       "in_theaters_date             -0.000219           -0.009804           0.025748   \n",
       "on_streaming_date             0.021331           -0.013200          -0.034233   \n",
       "runtime_in_minutes           -0.106412            0.075319           0.189104   \n",
       "studio_name                   0.015904           -0.014747           0.024706   \n",
       "tomatometer_status            1.000000           -0.807827          -0.276484   \n",
       "tomatometer_rating           -0.807827            1.000000           0.083782   \n",
       "tomatometer_count            -0.276484            0.083782           1.000000   \n",
       "audience_rating              -0.582228            0.660111           0.141012   \n",
       "\n",
       "                    audience_rating  \n",
       "movie_title                0.021906  \n",
       "movie_info                 0.034712  \n",
       "critics_consensus         -0.127764  \n",
       "rating                    -0.167589  \n",
       "genre                     -0.030530  \n",
       "directors                  0.002740  \n",
       "writers                    0.042267  \n",
       "cast                       0.029818  \n",
       "in_theaters_date          -0.037289  \n",
       "on_streaming_date         -0.016129  \n",
       "runtime_in_minutes         0.168507  \n",
       "studio_name                0.019733  \n",
       "tomatometer_status        -0.582228  \n",
       "tomatometer_rating         0.660111  \n",
       "tomatometer_count          0.141012  \n",
       "audience_rating            1.000000  "
      ]
     },
     "execution_count": 54,
     "metadata": {},
     "output_type": "execute_result"
    }
   ],
   "source": [
    "corr_matrix=data.corr() \n",
    "corr_matrix #obtaining the correlation matrix from encoded data"
   ]
  },
  {
   "cell_type": "code",
   "execution_count": 56,
   "metadata": {
    "colab": {
     "base_uri": "https://localhost:8080/",
     "height": 819
    },
    "id": "7_gLkt0mDdO2",
    "outputId": "5fc9d485-3687-48f8-e889-69dcafbfd046"
   },
   "outputs": [
    {
     "data": {
      "image/png": "[encoded data removed]",
      "text/plain": [
       "<Figure size 900x900 with 2 Axes>"
      ]
     },
     "metadata": {},
     "output_type": "display_data"
    }
   ],
   "source": [
    "#Plotting the correlation matix in the form of a heatmap for better visual understanding\n",
    "\n",
    "plt.figure(figsize=(9, 9))\n",
    "\n",
    "\n",
    "sns.heatmap(corr_matrix, annot=True, cmap='coolwarm', fmt=\".2f\", square=True) #\n",
    "\n",
    "\n",
    "plt.title('Correlation Heatmap')\n",
    "plt.show()"
   ]
  },
  {
   "cell_type": "markdown",
   "metadata": {
    "id": "fMnsfpQmQWwI"
   },
   "source": [
    "In the above heatmap we can see that the audience rating has the **highest correlation  with tomatometer_rating and tomatometer_status (-ve correlation)** which are both significantly higher correlated features we are going to consider for the prediction."
   ]
  },
  {
   "cell_type": "markdown",
   "metadata": {
    "id": "vHIxrgVXQ73g"
   },
   "source": [
    "Also considering the null value count we can eliminate the following columns ['movie_title', 'movie_info', 'critics_consensus','genre', 'directors', 'cast', 'writers', 'in_theaters_date',  'on_streaming_date', 'runtime_in_minutes', 'studio_name','tomatometer_count'] ,as they have insignificant correlation and also a lot of missing values which can be filled with unknown variables but again introduces more anomallies."
   ]
  },
  {
   "cell_type": "code",
   "execution_count": 57,
   "metadata": {
    "id": "GXBTIKfODdQ6"
   },
   "outputs": [],
   "source": [
    "data=data.drop(columns=[ 'movie_title', 'movie_info', 'critics_consensus','genre','directors', 'cast','writers','in_theaters_date', 'on_streaming_date','runtime_in_minutes','studio_name','tomatometer_count'])"
   ]
  },
  {
   "cell_type": "code",
   "execution_count": 58,
   "metadata": {
    "colab": {
     "base_uri": "https://localhost:8080/",
     "height": 423
    },
    "id": "o3i1BmV2DdMG",
    "outputId": "4482f351-f414-4de2-d589-a7838c4941b0"
   },
   "outputs": [
    {
     "data": {
      "text/html": [
       "<div>\n",
       "<style scoped>\n",
       "    .dataframe tbody tr th:only-of-type {\n",
       "        vertical-align: middle;\n",
       "    }\n",
       "\n",
       "    .dataframe tbody tr th {\n",
       "        vertical-align: top;\n",
       "    }\n",
       "\n",
       "    .dataframe thead th {\n",
       "        text-align: right;\n",
       "    }\n",
       "</style>\n",
       "<table border=\"1\" class=\"dataframe\">\n",
       "  <thead>\n",
       "    <tr style=\"text-align: right;\">\n",
       "      <th></th>\n",
       "      <th>rating</th>\n",
       "      <th>tomatometer_status</th>\n",
       "      <th>tomatometer_rating</th>\n",
       "      <th>audience_rating</th>\n",
       "    </tr>\n",
       "  </thead>\n",
       "  <tbody>\n",
       "    <tr>\n",
       "      <th>0</th>\n",
       "      <td>3</td>\n",
       "      <td>2</td>\n",
       "      <td>49</td>\n",
       "      <td>53.0</td>\n",
       "    </tr>\n",
       "    <tr>\n",
       "      <th>1</th>\n",
       "      <td>6</td>\n",
       "      <td>0</td>\n",
       "      <td>86</td>\n",
       "      <td>64.0</td>\n",
       "    </tr>\n",
       "    <tr>\n",
       "      <th>2</th>\n",
       "      <td>6</td>\n",
       "      <td>1</td>\n",
       "      <td>68</td>\n",
       "      <td>53.0</td>\n",
       "    </tr>\n",
       "    <tr>\n",
       "      <th>3</th>\n",
       "      <td>2</td>\n",
       "      <td>0</td>\n",
       "      <td>100</td>\n",
       "      <td>97.0</td>\n",
       "    </tr>\n",
       "    <tr>\n",
       "      <th>4</th>\n",
       "      <td>0</td>\n",
       "      <td>1</td>\n",
       "      <td>89</td>\n",
       "      <td>74.0</td>\n",
       "    </tr>\n",
       "    <tr>\n",
       "      <th>...</th>\n",
       "      <td>...</td>\n",
       "      <td>...</td>\n",
       "      <td>...</td>\n",
       "      <td>...</td>\n",
       "    </tr>\n",
       "    <tr>\n",
       "      <th>16633</th>\n",
       "      <td>6</td>\n",
       "      <td>2</td>\n",
       "      <td>56</td>\n",
       "      <td>74.0</td>\n",
       "    </tr>\n",
       "    <tr>\n",
       "      <th>16634</th>\n",
       "      <td>3</td>\n",
       "      <td>0</td>\n",
       "      <td>97</td>\n",
       "      <td>92.0</td>\n",
       "    </tr>\n",
       "    <tr>\n",
       "      <th>16635</th>\n",
       "      <td>2</td>\n",
       "      <td>1</td>\n",
       "      <td>78</td>\n",
       "      <td>87.0</td>\n",
       "    </tr>\n",
       "    <tr>\n",
       "      <th>16636</th>\n",
       "      <td>3</td>\n",
       "      <td>1</td>\n",
       "      <td>95</td>\n",
       "      <td>91.0</td>\n",
       "    </tr>\n",
       "    <tr>\n",
       "      <th>16637</th>\n",
       "      <td>3</td>\n",
       "      <td>2</td>\n",
       "      <td>57</td>\n",
       "      <td>62.0</td>\n",
       "    </tr>\n",
       "  </tbody>\n",
       "</table>\n",
       "<p>16386 rows × 4 columns</p>\n",
       "</div>"
      ],
      "text/plain": [
       "       rating  tomatometer_status  tomatometer_rating  audience_rating\n",
       "0           3                   2                  49             53.0\n",
       "1           6                   0                  86             64.0\n",
       "2           6                   1                  68             53.0\n",
       "3           2                   0                 100             97.0\n",
       "4           0                   1                  89             74.0\n",
       "...       ...                 ...                 ...              ...\n",
       "16633       6                   2                  56             74.0\n",
       "16634       3                   0                  97             92.0\n",
       "16635       2                   1                  78             87.0\n",
       "16636       3                   1                  95             91.0\n",
       "16637       3                   2                  57             62.0\n",
       "\n",
       "[16386 rows x 4 columns]"
      ]
     },
     "execution_count": 58,
     "metadata": {},
     "output_type": "execute_result"
    }
   ],
   "source": [
    "data #Data after droppin the columns which contain anomolies in data which might affect the forecasting"
   ]
  },
  {
   "cell_type": "code",
   "execution_count": 17,
   "metadata": {
    "id": "tTNYx-IvTk7c"
   },
   "outputs": [],
   "source": [
    "X = data.drop(columns=['audience_rating']) #assigning every column except 'audience_rating' to 'X'\n",
    "y = data['audience_rating'] #assigning the target column 'audience_rating' to 'y'"
   ]
  },
  {
   "cell_type": "code",
   "execution_count": 59,
   "metadata": {
    "id": "Rf-pfx7RDdJf"
   },
   "outputs": [],
   "source": [
    "X_train, X_test, y_train, y_test = train_test_split(X, y, test_size=0.2, random_state=42) #Employing a 80:20 Train Test split"
   ]
  },
  {
   "cell_type": "code",
   "execution_count": 60,
   "metadata": {
    "colab": {
     "base_uri": "https://localhost:8080/",
     "height": 80
    },
    "id": "ErluVWp8DdD6",
    "outputId": "cd3ca8ee-0f1d-4f46-cfb7-7102c9c4870b"
   },
   "outputs": [
    {
     "data": {
      "text/html": [
       "<style>#sk-container-id-3 {color: black;background-color: white;}#sk-container-id-3 pre{padding: 0;}#sk-container-id-3 div.sk-toggleable {background-color: white;}#sk-container-id-3 label.sk-toggleable__label {cursor: pointer;display: block;width: 100%;margin-bottom: 0;padding: 0.3em;box-sizing: border-box;text-align: center;}#sk-container-id-3 label.sk-toggleable__label-arrow:before {content: \"▸\";float: left;margin-right: 0.25em;color: #696969;}#sk-container-id-3 label.sk-toggleable__label-arrow:hover:before {color: black;}#sk-container-id-3 div.sk-estimator:hover label.sk-toggleable__label-arrow:before {color: black;}#sk-container-id-3 div.sk-toggleable__content {max-height: 0;max-width: 0;overflow: hidden;text-align: left;background-color: #f0f8ff;}#sk-container-id-3 div.sk-toggleable__content pre {margin: 0.2em;color: black;border-radius: 0.25em;background-color: #f0f8ff;}#sk-container-id-3 input.sk-toggleable__control:checked~div.sk-toggleable__content {max-height: 200px;max-width: 100%;overflow: auto;}#sk-container-id-3 input.sk-toggleable__control:checked~label.sk-toggleable__label-arrow:before {content: \"▾\";}#sk-container-id-3 div.sk-estimator input.sk-toggleable__control:checked~label.sk-toggleable__label {background-color: #d4ebff;}#sk-container-id-3 div.sk-label input.sk-toggleable__control:checked~label.sk-toggleable__label {background-color: #d4ebff;}#sk-container-id-3 input.sk-hidden--visually {border: 0;clip: rect(1px 1px 1px 1px);clip: rect(1px, 1px, 1px, 1px);height: 1px;margin: -1px;overflow: hidden;padding: 0;position: absolute;width: 1px;}#sk-container-id-3 div.sk-estimator {font-family: monospace;background-color: #f0f8ff;border: 1px dotted black;border-radius: 0.25em;box-sizing: border-box;margin-bottom: 0.5em;}#sk-container-id-3 div.sk-estimator:hover {background-color: #d4ebff;}#sk-container-id-3 div.sk-parallel-item::after {content: \"\";width: 100%;border-bottom: 1px solid gray;flex-grow: 1;}#sk-container-id-3 div.sk-label:hover label.sk-toggleable__label {background-color: #d4ebff;}#sk-container-id-3 div.sk-serial::before {content: \"\";position: absolute;border-left: 1px solid gray;box-sizing: border-box;top: 0;bottom: 0;left: 50%;z-index: 0;}#sk-container-id-3 div.sk-serial {display: flex;flex-direction: column;align-items: center;background-color: white;padding-right: 0.2em;padding-left: 0.2em;position: relative;}#sk-container-id-3 div.sk-item {position: relative;z-index: 1;}#sk-container-id-3 div.sk-parallel {display: flex;align-items: stretch;justify-content: center;background-color: white;position: relative;}#sk-container-id-3 div.sk-item::before, #sk-container-id-3 div.sk-parallel-item::before {content: \"\";position: absolute;border-left: 1px solid gray;box-sizing: border-box;top: 0;bottom: 0;left: 50%;z-index: -1;}#sk-container-id-3 div.sk-parallel-item {display: flex;flex-direction: column;z-index: 1;position: relative;background-color: white;}#sk-container-id-3 div.sk-parallel-item:first-child::after {align-self: flex-end;width: 50%;}#sk-container-id-3 div.sk-parallel-item:last-child::after {align-self: flex-start;width: 50%;}#sk-container-id-3 div.sk-parallel-item:only-child::after {width: 0;}#sk-container-id-3 div.sk-dashed-wrapped {border: 1px dashed gray;margin: 0 0.4em 0.5em 0.4em;box-sizing: border-box;padding-bottom: 0.4em;background-color: white;}#sk-container-id-3 div.sk-label label {font-family: monospace;font-weight: bold;display: inline-block;line-height: 1.2em;}#sk-container-id-3 div.sk-label-container {text-align: center;}#sk-container-id-3 div.sk-container {/* jupyter's `normalize.less` sets `[hidden] { display: none; }` but bootstrap.min.css set `[hidden] { display: none !important; }` so we also need the `!important` here to be able to override the default hidden behavior on the sphinx rendered scikit-learn.org. See: https://github.com/scikit-learn/scikit-learn/issues/21755 */display: inline-block !important;position: relative;}#sk-container-id-3 div.sk-text-repr-fallback {display: none;}</style><div id=\"sk-container-id-3\" class=\"sk-top-container\"><div class=\"sk-text-repr-fallback\"><pre>RandomForestRegressor(random_state=42)</pre><b>In a Jupyter environment, please rerun this cell to show the HTML representation or trust the notebook. <br />On GitHub, the HTML representation is unable to render, please try loading this page with nbviewer.org.</b></div><div class=\"sk-container\" hidden><div class=\"sk-item\"><div class=\"sk-estimator sk-toggleable\"><input class=\"sk-toggleable__control sk-hidden--visually\" id=\"sk-estimator-id-5\" type=\"checkbox\" checked><label for=\"sk-estimator-id-5\" class=\"sk-toggleable__label sk-toggleable__label-arrow\">RandomForestRegressor</label><div class=\"sk-toggleable__content\"><pre>RandomForestRegressor(random_state=42)</pre></div></div></div></div></div>"
      ],
      "text/plain": [
       "RandomForestRegressor(random_state=42)"
      ]
     },
     "execution_count": 60,
     "metadata": {},
     "output_type": "execute_result"
    }
   ],
   "source": [
    "model=RandomForestRegressor(n_estimators=100, random_state=42) #assigning the model and fitting the model with training data\n",
    "model.fit(X_train,y_train)"
   ]
  },
  {
   "cell_type": "code",
   "execution_count": 61,
   "metadata": {
    "id": "Ylo6Hx3fDc-s"
   },
   "outputs": [],
   "source": [
    "y_pred=model.predict(X_test) #predicting the trained model with the test input"
   ]
  },
  {
   "cell_type": "code",
   "execution_count": 64,
   "metadata": {
    "colab": {
     "base_uri": "https://localhost:8080/"
    },
    "id": "Ocbc32rEDcqa",
    "outputId": "405ee4a4-e047-4fd5-9ee8-aeb09d6df0a7"
   },
   "outputs": [
    {
     "name": "stdout",
     "output_type": "stream",
     "text": [
      "Model Evaluation Metrics:\n",
      "\n",
      "Mean Absolute Error (MAE): 12.052472\n",
      "Mean Squared Error: 227.660217\n",
      "Root Mean Squared Error (RMSE): 15.088413\n",
      "R-Squared (R²): 0.448384\n"
     ]
    }
   ],
   "source": [
    "print(\"Model Evaluation Metrics:\\n\")\n",
    "\n",
    "print(f\"Mean Absolute Error (MAE): {mae:.6f}\")\n",
    "mae = mean_absolute_error(y_test, y_pred)\n",
    "\n",
    "print(f\"Mean Squared Error: {mse:.6f}\")\n",
    "mse = mean_squared_error(y_test, y_pred)\n",
    "\n",
    "print(f\"Root Mean Squared Error (RMSE): {rmse:.6f}\")\n",
    "rmse = np.sqrt(mse)\n",
    "\n",
    "r2 = r2_score(y_test, y_pred)\n",
    "print(f\"R-Squared (R²): {r2:.6f}\")\n"
   ]
  },
  {
   "cell_type": "code",
   "execution_count": 63,
   "metadata": {
    "colab": {
     "base_uri": "https://localhost:8080/"
    },
    "id": "AcGH8FT6dtnz",
    "outputId": "3fa76cd4-9a41-4808-d93a-08540c0acf97"
   },
   "outputs": [
    {
     "name": "stdout",
     "output_type": "stream",
     "text": [
      "Baseline RMSE: 20.316394254868985\n"
     ]
    }
   ],
   "source": [
    "baseline_pred = np.mean(y_train)\n",
    "baseline_rmse = np.sqrt(mean_squared_error(y_test, [baseline_pred] * len(y_test)))\n",
    "print(f\"Baseline RMSE: {baseline_rmse}\")\n"
   ]
  },
  {
   "cell_type": "markdown",
   "metadata": {
    "id": "dEY1WQjVL9lU"
   },
   "source": [
    "We are calculating a baseline RMSE to evaluate of our model is within the baseline RMS Error, from the above cell outputs its clear that the model is well within our baseline RMSE which is 20.3 and the model's RMSE is 15.08 , but there seems to be still room for improvement so I'm emloying hyperparameter tuning"
   ]
  },
  {
   "cell_type": "code",
   "execution_count": 66,
   "metadata": {
    "id": "-vBO-QkwdtaT"
   },
   "outputs": [],
   "source": [
    "#creating a dictonary with parameter values \n",
    "\n",
    "param_grid = {\n",
    "    'n_estimators': [100, 200, 300, 400, 500],\n",
    "    'max_depth': [10, 20, 30, 40, None],\n",
    "    'min_samples_split': [2, 5, 10],\n",
    "    'min_samples_leaf': [1, 2, 4],\n",
    "    'max_features': ['auto','sqrt','log2']}\n"
   ]
  },
  {
   "cell_type": "code",
   "execution_count": 71,
   "metadata": {
    "id": "cc6WtLM_MN6t"
   },
   "outputs": [],
   "source": [
    "#using Gridsearch Cross Validation to find the optimal \n",
    "random_search = RandomizedSearchCV(estimator=model,\n",
    "                                   param_distributions=param_grid,\n",
    "                                   n_iter=20, # Number of random combinations to test\n",
    "                                   cv=5, # Cross-validation folds\n",
    "                                   scoring='neg_mean_squared_error',\n",
    "                                   verbose=2,\n",
    "                                   random_state=42,\n",
    "                                   n_jobs=-1)"
   ]
  },
  {
   "cell_type": "code",
   "execution_count": 73,
   "metadata": {
    "colab": {
     "base_uri": "https://localhost:8080/",
     "height": 861
    },
    "id": "0JyiLkclMN39",
    "outputId": "8b1fa92e-054c-4511-f4a9-5d312e731ef0"
   },
   "outputs": [
    {
     "name": "stdout",
     "output_type": "stream",
     "text": [
      "Fitting 5 folds for each of 20 candidates, totalling 100 fits\n"
     ]
    },
    {
     "data": {
      "text/html": [
       "<style>#sk-container-id-5 {color: black;background-color: white;}#sk-container-id-5 pre{padding: 0;}#sk-container-id-5 div.sk-toggleable {background-color: white;}#sk-container-id-5 label.sk-toggleable__label {cursor: pointer;display: block;width: 100%;margin-bottom: 0;padding: 0.3em;box-sizing: border-box;text-align: center;}#sk-container-id-5 label.sk-toggleable__label-arrow:before {content: \"▸\";float: left;margin-right: 0.25em;color: #696969;}#sk-container-id-5 label.sk-toggleable__label-arrow:hover:before {color: black;}#sk-container-id-5 div.sk-estimator:hover label.sk-toggleable__label-arrow:before {color: black;}#sk-container-id-5 div.sk-toggleable__content {max-height: 0;max-width: 0;overflow: hidden;text-align: left;background-color: #f0f8ff;}#sk-container-id-5 div.sk-toggleable__content pre {margin: 0.2em;color: black;border-radius: 0.25em;background-color: #f0f8ff;}#sk-container-id-5 input.sk-toggleable__control:checked~div.sk-toggleable__content {max-height: 200px;max-width: 100%;overflow: auto;}#sk-container-id-5 input.sk-toggleable__control:checked~label.sk-toggleable__label-arrow:before {content: \"▾\";}#sk-container-id-5 div.sk-estimator input.sk-toggleable__control:checked~label.sk-toggleable__label {background-color: #d4ebff;}#sk-container-id-5 div.sk-label input.sk-toggleable__control:checked~label.sk-toggleable__label {background-color: #d4ebff;}#sk-container-id-5 input.sk-hidden--visually {border: 0;clip: rect(1px 1px 1px 1px);clip: rect(1px, 1px, 1px, 1px);height: 1px;margin: -1px;overflow: hidden;padding: 0;position: absolute;width: 1px;}#sk-container-id-5 div.sk-estimator {font-family: monospace;background-color: #f0f8ff;border: 1px dotted black;border-radius: 0.25em;box-sizing: border-box;margin-bottom: 0.5em;}#sk-container-id-5 div.sk-estimator:hover {background-color: #d4ebff;}#sk-container-id-5 div.sk-parallel-item::after {content: \"\";width: 100%;border-bottom: 1px solid gray;flex-grow: 1;}#sk-container-id-5 div.sk-label:hover label.sk-toggleable__label {background-color: #d4ebff;}#sk-container-id-5 div.sk-serial::before {content: \"\";position: absolute;border-left: 1px solid gray;box-sizing: border-box;top: 0;bottom: 0;left: 50%;z-index: 0;}#sk-container-id-5 div.sk-serial {display: flex;flex-direction: column;align-items: center;background-color: white;padding-right: 0.2em;padding-left: 0.2em;position: relative;}#sk-container-id-5 div.sk-item {position: relative;z-index: 1;}#sk-container-id-5 div.sk-parallel {display: flex;align-items: stretch;justify-content: center;background-color: white;position: relative;}#sk-container-id-5 div.sk-item::before, #sk-container-id-5 div.sk-parallel-item::before {content: \"\";position: absolute;border-left: 1px solid gray;box-sizing: border-box;top: 0;bottom: 0;left: 50%;z-index: -1;}#sk-container-id-5 div.sk-parallel-item {display: flex;flex-direction: column;z-index: 1;position: relative;background-color: white;}#sk-container-id-5 div.sk-parallel-item:first-child::after {align-self: flex-end;width: 50%;}#sk-container-id-5 div.sk-parallel-item:last-child::after {align-self: flex-start;width: 50%;}#sk-container-id-5 div.sk-parallel-item:only-child::after {width: 0;}#sk-container-id-5 div.sk-dashed-wrapped {border: 1px dashed gray;margin: 0 0.4em 0.5em 0.4em;box-sizing: border-box;padding-bottom: 0.4em;background-color: white;}#sk-container-id-5 div.sk-label label {font-family: monospace;font-weight: bold;display: inline-block;line-height: 1.2em;}#sk-container-id-5 div.sk-label-container {text-align: center;}#sk-container-id-5 div.sk-container {/* jupyter's `normalize.less` sets `[hidden] { display: none; }` but bootstrap.min.css set `[hidden] { display: none !important; }` so we also need the `!important` here to be able to override the default hidden behavior on the sphinx rendered scikit-learn.org. See: https://github.com/scikit-learn/scikit-learn/issues/21755 */display: inline-block !important;position: relative;}#sk-container-id-5 div.sk-text-repr-fallback {display: none;}</style><div id=\"sk-container-id-5\" class=\"sk-top-container\"><div class=\"sk-text-repr-fallback\"><pre>RandomizedSearchCV(cv=5, estimator=RandomForestRegressor(random_state=42),\n",
       "                   n_iter=20, n_jobs=-1,\n",
       "                   param_distributions={&#x27;max_depth&#x27;: [10, 20, 30, 40, None],\n",
       "                                        &#x27;max_features&#x27;: [&#x27;auto&#x27;, &#x27;sqrt&#x27;,\n",
       "                                                         &#x27;log2&#x27;],\n",
       "                                        &#x27;min_samples_leaf&#x27;: [1, 2, 4],\n",
       "                                        &#x27;min_samples_split&#x27;: [2, 5, 10],\n",
       "                                        &#x27;n_estimators&#x27;: [100, 200, 300, 400,\n",
       "                                                         500]},\n",
       "                   random_state=42, scoring=&#x27;neg_mean_squared_error&#x27;,\n",
       "                   verbose=2)</pre><b>In a Jupyter environment, please rerun this cell to show the HTML representation or trust the notebook. <br />On GitHub, the HTML representation is unable to render, please try loading this page with nbviewer.org.</b></div><div class=\"sk-container\" hidden><div class=\"sk-item sk-dashed-wrapped\"><div class=\"sk-label-container\"><div class=\"sk-label sk-toggleable\"><input class=\"sk-toggleable__control sk-hidden--visually\" id=\"sk-estimator-id-9\" type=\"checkbox\" ><label for=\"sk-estimator-id-9\" class=\"sk-toggleable__label sk-toggleable__label-arrow\">RandomizedSearchCV</label><div class=\"sk-toggleable__content\"><pre>RandomizedSearchCV(cv=5, estimator=RandomForestRegressor(random_state=42),\n",
       "                   n_iter=20, n_jobs=-1,\n",
       "                   param_distributions={&#x27;max_depth&#x27;: [10, 20, 30, 40, None],\n",
       "                                        &#x27;max_features&#x27;: [&#x27;auto&#x27;, &#x27;sqrt&#x27;,\n",
       "                                                         &#x27;log2&#x27;],\n",
       "                                        &#x27;min_samples_leaf&#x27;: [1, 2, 4],\n",
       "                                        &#x27;min_samples_split&#x27;: [2, 5, 10],\n",
       "                                        &#x27;n_estimators&#x27;: [100, 200, 300, 400,\n",
       "                                                         500]},\n",
       "                   random_state=42, scoring=&#x27;neg_mean_squared_error&#x27;,\n",
       "                   verbose=2)</pre></div></div></div><div class=\"sk-parallel\"><div class=\"sk-parallel-item\"><div class=\"sk-item\"><div class=\"sk-label-container\"><div class=\"sk-label sk-toggleable\"><input class=\"sk-toggleable__control sk-hidden--visually\" id=\"sk-estimator-id-10\" type=\"checkbox\" ><label for=\"sk-estimator-id-10\" class=\"sk-toggleable__label sk-toggleable__label-arrow\">estimator: RandomForestRegressor</label><div class=\"sk-toggleable__content\"><pre>RandomForestRegressor(random_state=42)</pre></div></div></div><div class=\"sk-serial\"><div class=\"sk-item\"><div class=\"sk-estimator sk-toggleable\"><input class=\"sk-toggleable__control sk-hidden--visually\" id=\"sk-estimator-id-11\" type=\"checkbox\" ><label for=\"sk-estimator-id-11\" class=\"sk-toggleable__label sk-toggleable__label-arrow\">RandomForestRegressor</label><div class=\"sk-toggleable__content\"><pre>RandomForestRegressor(random_state=42)</pre></div></div></div></div></div></div></div></div></div></div>"
      ],
      "text/plain": [
       "RandomizedSearchCV(cv=5, estimator=RandomForestRegressor(random_state=42),\n",
       "                   n_iter=20, n_jobs=-1,\n",
       "                   param_distributions={'max_depth': [10, 20, 30, 40, None],\n",
       "                                        'max_features': ['auto', 'sqrt',\n",
       "                                                         'log2'],\n",
       "                                        'min_samples_leaf': [1, 2, 4],\n",
       "                                        'min_samples_split': [2, 5, 10],\n",
       "                                        'n_estimators': [100, 200, 300, 400,\n",
       "                                                         500]},\n",
       "                   random_state=42, scoring='neg_mean_squared_error',\n",
       "                   verbose=2)"
      ]
     },
     "execution_count": 73,
     "metadata": {},
     "output_type": "execute_result"
    }
   ],
   "source": [
    "random_search.fit(X_train, y_train) #the random search algorithm searches through random combinations of the parameters and provides best Parameters"
   ]
  },
  {
   "cell_type": "code",
   "execution_count": 79,
   "metadata": {
    "colab": {
     "base_uri": "https://localhost:8080/"
    },
    "id": "sZU4hWiZMNyk",
    "outputId": "dfa414e3-8ee3-42ce-961b-69898ca70000"
   },
   "outputs": [
    {
     "name": "stdout",
     "output_type": "stream",
     "text": [
      "{'n_estimators': 300, 'min_samples_split': 2, 'min_samples_leaf': 4, 'max_features': 'sqrt', 'max_depth': 10}\n"
     ]
    }
   ],
   "source": [
    "print(random_search.best_params_) #these are the best performing parameters according to Randomized Search Cross Validation model"
   ]
  },
  {
   "cell_type": "code",
   "execution_count": 80,
   "metadata": {
    "colab": {
     "base_uri": "https://localhost:8080/"
    },
    "id": "fkARtYcxMNtj",
    "outputId": "61f64864-78ff-4257-ba0c-7bce2f9254f0"
   },
   "outputs": [
    {
     "name": "stdout",
     "output_type": "stream",
     "text": [
      "Improved RMSE: 14.981361570582646\n"
     ]
    }
   ],
   "source": [
    "best_model = random_search.best_estimator_\n",
    "y_pred = best_model.predict(X_test)\n",
    "rmse = np.sqrt(mean_squared_error(y_test, y_pred))\n",
    "print(f\"Improved RMSE: {rmse}\")"
   ]
  },
  {
   "cell_type": "code",
   "execution_count": 81,
   "metadata": {
    "id": "ZTX-S3HaMNlu"
   },
   "outputs": [],
   "source": [
    "y_test_new = y_test.reset_index(drop=True)"
   ]
  },
  {
   "cell_type": "code",
   "execution_count": 82,
   "metadata": {
    "id": "6pgMG6sUMNgc"
   },
   "outputs": [],
   "source": [
    "y_pred_new=pd.DataFrame(y_pred)"
   ]
  },
  {
   "cell_type": "code",
   "execution_count": 90,
   "metadata": {
    "id": "YVHN2axUMNdr"
   },
   "outputs": [],
   "source": [
    "def plotGraph(y_test,y_pred,model):\n",
    "    if max(y_test) >= max(y_pred):\n",
    "        my_range = int(max(y_test))\n",
    "    else:\n",
    "        my_range = int(max(y_pred))\n",
    "    plt.scatter(range(len(y_test)), y_test, color='blue')\n",
    "    plt.scatter(range(len(y_pred)), y_pred, color='red')\n",
    "    plt.title(model)\n",
    "    plt.show()\n",
    "    return"
   ]
  },
  {
   "cell_type": "code",
   "execution_count": 91,
   "metadata": {
    "colab": {
     "base_uri": "https://localhost:8080/",
     "height": 452
    },
    "id": "XIQvtWqTMNV-",
    "outputId": "0fa7c66d-a363-48fe-a158-3b556978e39b"
   },
   "outputs": [
    {
     "data": {
      "image/png": "[encoded data removed]",
      "text/plain": [
       "<Figure size 640x480 with 1 Axes>"
      ]
     },
     "metadata": {},
     "output_type": "display_data"
    }
   ],
   "source": [
    "plotGraph(y_test_reset,y_pred_reset,\"Random Forest Regressor\")"
   ]
  },
  {
   "cell_type": "code",
   "execution_count": 85,
   "metadata": {
    "id": "LEnXELakQrqg"
   },
   "outputs": [],
   "source": [
    "result = pd.concat([y_test_reset,y_pred_reset],axis=1)"
   ]
  },
  {
   "cell_type": "code",
   "execution_count": 86,
   "metadata": {
    "id": "jS_p6KOtQrfo"
   },
   "outputs": [],
   "source": [
    "result.columns = ['actual', 'predicted']"
   ]
  },
  {
   "cell_type": "code",
   "execution_count": 87,
   "metadata": {
    "colab": {
     "base_uri": "https://localhost:8080/",
     "height": 423
    },
    "id": "qoJP7c1eRU67",
    "outputId": "3977a0ed-fa43-448a-84c4-9028ea4602de"
   },
   "outputs": [
    {
     "data": {
      "text/html": [
       "<div>\n",
       "<style scoped>\n",
       "    .dataframe tbody tr th:only-of-type {\n",
       "        vertical-align: middle;\n",
       "    }\n",
       "\n",
       "    .dataframe tbody tr th {\n",
       "        vertical-align: top;\n",
       "    }\n",
       "\n",
       "    .dataframe thead th {\n",
       "        text-align: right;\n",
       "    }\n",
       "</style>\n",
       "<table border=\"1\" class=\"dataframe\">\n",
       "  <thead>\n",
       "    <tr style=\"text-align: right;\">\n",
       "      <th></th>\n",
       "      <th>actual</th>\n",
       "      <th>predicted</th>\n",
       "    </tr>\n",
       "  </thead>\n",
       "  <tbody>\n",
       "    <tr>\n",
       "      <th>0</th>\n",
       "      <td>69.0</td>\n",
       "      <td>51.094447</td>\n",
       "    </tr>\n",
       "    <tr>\n",
       "      <th>1</th>\n",
       "      <td>30.0</td>\n",
       "      <td>45.271128</td>\n",
       "    </tr>\n",
       "    <tr>\n",
       "      <th>2</th>\n",
       "      <td>44.0</td>\n",
       "      <td>58.175038</td>\n",
       "    </tr>\n",
       "    <tr>\n",
       "      <th>3</th>\n",
       "      <td>85.0</td>\n",
       "      <td>69.212187</td>\n",
       "    </tr>\n",
       "    <tr>\n",
       "      <th>4</th>\n",
       "      <td>51.0</td>\n",
       "      <td>66.207650</td>\n",
       "    </tr>\n",
       "    <tr>\n",
       "      <th>...</th>\n",
       "      <td>...</td>\n",
       "      <td>...</td>\n",
       "    </tr>\n",
       "    <tr>\n",
       "      <th>3273</th>\n",
       "      <td>72.0</td>\n",
       "      <td>57.696888</td>\n",
       "    </tr>\n",
       "    <tr>\n",
       "      <th>3274</th>\n",
       "      <td>66.0</td>\n",
       "      <td>48.493890</td>\n",
       "    </tr>\n",
       "    <tr>\n",
       "      <th>3275</th>\n",
       "      <td>81.0</td>\n",
       "      <td>82.380229</td>\n",
       "    </tr>\n",
       "    <tr>\n",
       "      <th>3276</th>\n",
       "      <td>76.0</td>\n",
       "      <td>58.046878</td>\n",
       "    </tr>\n",
       "    <tr>\n",
       "      <th>3277</th>\n",
       "      <td>22.0</td>\n",
       "      <td>38.896225</td>\n",
       "    </tr>\n",
       "  </tbody>\n",
       "</table>\n",
       "<p>3278 rows × 2 columns</p>\n",
       "</div>"
      ],
      "text/plain": [
       "      actual  predicted\n",
       "0       69.0  51.094447\n",
       "1       30.0  45.271128\n",
       "2       44.0  58.175038\n",
       "3       85.0  69.212187\n",
       "4       51.0  66.207650\n",
       "...      ...        ...\n",
       "3273    72.0  57.696888\n",
       "3274    66.0  48.493890\n",
       "3275    81.0  82.380229\n",
       "3276    76.0  58.046878\n",
       "3277    22.0  38.896225\n",
       "\n",
       "[3278 rows x 2 columns]"
      ]
     },
     "execution_count": 87,
     "metadata": {},
     "output_type": "execute_result"
    }
   ],
   "source": [
    "result"
   ]
  },
  {
   "cell_type": "code",
   "execution_count": 88,
   "metadata": {
    "colab": {
     "base_uri": "https://localhost:8080/"
    },
    "id": "vyjO2qDAdtt9",
    "outputId": "648eb9b1-e76b-42af-ec9f-e06208ce0c48"
   },
   "outputs": [
    {
     "name": "stdout",
     "output_type": "stream",
     "text": [
      "Mean Accuracy Percentage of the model: 72.69%\n"
     ]
    }
   ],
   "source": [
    "# Filter out zero values from y_test to avoid division by zero\n",
    "non_zero_indices = y_test != 0\n",
    "y_test_non_zero = y_test[non_zero_indices]\n",
    "y_pred_non_zero = y_pred[non_zero_indices]\n",
    "\n",
    "# Calculate the Mean Accuracy Percentage\n",
    "accuracy = 1 - (np.mean(np.abs(y_test_non_zero - y_pred_non_zero) / y_test_non_zero))\n",
    "accuracy_percentage = accuracy * 100\n",
    "\n",
    "print(f\"Mean Accuracy Percentage of the model: {accuracy_percentage:.2f}%\")\n"
   ]
  },
  {
   "cell_type": "markdown",
   "metadata": {
    "id": "J6L-_xvqBhuD"
   },
   "source": [
    "My model has an accuracy percentage of 72.69% which is optimal for a model using real world dataset, and upon hyper parameter tuning there seems to be a reduction in RMSE value, I'm satisfied with the obtained output. hence here's my submission for the assignment"
   ]
  },
  {
   "cell_type": "code",
   "execution_count": null,
   "metadata": {
    "id": "bvn1UKraTJOR"
   },
   "outputs": [],
   "source": []
  },
  {
   "cell_type": "markdown",
   "metadata": {
    "id": "hxMFyeWNy-In"
   },
   "source": [
    "# References\n",
    "\n",
    "\n",
    "* https://scikit-learn.org/1.5/modules/generated/sklearn.ensemble.RandomForestRegressor.html\n",
    "\n",
    "* https://scikit-learn.org/1.5/api/sklearn.metrics.html\n",
    "\n",
    "* https://datascience.stackexchange.com/questions/30912/what-does-baseline-mean-in-the-context-of-machine-learning\n",
    "\n",
    "* https://stackoverflow.com/questions/65539013/how-to-plot-a-graph-of-actual-vs-predict-values-in\n",
    "\n",
    "* https://youtu.be/YUsx5ZNlYWc"
   ]
  },
  {
   "cell_type": "markdown",
   "metadata": {},
   "source": [
    "##### incase of queries contact \n",
    "ksvasanth7342@gmail.com"
   ]
  },
  {
   "cell_type": "code",
   "execution_count": null,
   "metadata": {},
   "outputs": [],
   "source": []
  }
 ],
 "metadata": {
  "colab": {
   "provenance": []
  },
  "kernelspec": {
   "display_name": "Python 3 (ipykernel)",
   "language": "python",
   "name": "python3"
  },
  "language_info": {
   "codemirror_mode": {
    "name": "ipython",
    "version": 3
   },
   "file_extension": ".py",
   "mimetype": "text/x-python",
   "name": "python",
   "nbconvert_exporter": "python",
   "pygments_lexer": "ipython3",
   "version": "3.10.11"
  }
 },
 "nbformat": 4,
 "nbformat_minor": 4
}
